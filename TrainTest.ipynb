{
 "cells": [
  {
   "cell_type": "code",
   "execution_count": 2,
   "metadata": {},
   "outputs": [],
   "source": [
    "import numpy as np\n",
    "import pandas as pd\n",
    "from models import train_validate, run_trading\n",
    "import os\n",
    "import warnings\n",
    "warnings.filterwarnings('ignore')"
   ]
  },
  {
   "cell_type": "code",
   "execution_count": 9,
   "metadata": {},
   "outputs": [],
   "source": [
    "REBALANCE_WINDOW = 63 # =252/4\n",
    "MARKETS = ['US', 'JP', 'VN', 'VNn']\n",
    "\n",
    "model_path = os.path.join(os.getcwd(), 'trained_models')\n",
    "if not os.path.exists(model_path):\n",
    "    for market in MARKETS:\n",
    "        os.makedirs(os.path.join(model_path, market))\n",
    "\n",
    "result_path = os.path.join(os.getcwd(), 'results')\n",
    "if not os.path.exists(result_path):\n",
    "    for market in MARKETS:\n",
    "        os.makedirs(os.path.join(result_path, market))"
   ]
  },
  {
   "cell_type": "markdown",
   "metadata": {},
   "source": [
    "## 1. US: Dow Jones 30 Index"
   ]
  },
  {
   "cell_type": "code",
   "execution_count": 6,
   "metadata": {},
   "outputs": [
    {
     "data": {
      "text/html": [
       "<div>\n",
       "<style scoped>\n",
       "    .dataframe tbody tr th:only-of-type {\n",
       "        vertical-align: middle;\n",
       "    }\n",
       "\n",
       "    .dataframe tbody tr th {\n",
       "        vertical-align: top;\n",
       "    }\n",
       "\n",
       "    .dataframe thead th {\n",
       "        text-align: right;\n",
       "    }\n",
       "</style>\n",
       "<table border=\"1\" class=\"dataframe\">\n",
       "  <thead>\n",
       "    <tr style=\"text-align: right;\">\n",
       "      <th></th>\n",
       "      <th>date</th>\n",
       "      <th>ticker</th>\n",
       "      <th>adjcp</th>\n",
       "      <th>open</th>\n",
       "      <th>high</th>\n",
       "      <th>low</th>\n",
       "      <th>volume</th>\n",
       "      <th>macd</th>\n",
       "      <th>rsi</th>\n",
       "      <th>cci</th>\n",
       "      <th>adx</th>\n",
       "    </tr>\n",
       "  </thead>\n",
       "  <tbody>\n",
       "    <tr>\n",
       "      <th>0</th>\n",
       "      <td>2015-01-05</td>\n",
       "      <td>AAPL</td>\n",
       "      <td>23.604332</td>\n",
       "      <td>27.072500</td>\n",
       "      <td>27.162500</td>\n",
       "      <td>26.352501</td>\n",
       "      <td>257142000</td>\n",
       "      <td>0.000000</td>\n",
       "      <td>0.000000</td>\n",
       "      <td>-66.666667</td>\n",
       "      <td>100.000000</td>\n",
       "    </tr>\n",
       "    <tr>\n",
       "      <th>1</th>\n",
       "      <td>2015-01-05</td>\n",
       "      <td>AMGN</td>\n",
       "      <td>116.813530</td>\n",
       "      <td>157.429993</td>\n",
       "      <td>159.600006</td>\n",
       "      <td>154.259995</td>\n",
       "      <td>4080300</td>\n",
       "      <td>0.000000</td>\n",
       "      <td>0.000000</td>\n",
       "      <td>-66.666667</td>\n",
       "      <td>100.000000</td>\n",
       "    </tr>\n",
       "    <tr>\n",
       "      <th>2</th>\n",
       "      <td>2015-01-05</td>\n",
       "      <td>AMZN</td>\n",
       "      <td>15.109500</td>\n",
       "      <td>15.350500</td>\n",
       "      <td>15.419000</td>\n",
       "      <td>15.042500</td>\n",
       "      <td>55484000</td>\n",
       "      <td>0.000000</td>\n",
       "      <td>0.000000</td>\n",
       "      <td>-66.666667</td>\n",
       "      <td>100.000000</td>\n",
       "    </tr>\n",
       "    <tr>\n",
       "      <th>3</th>\n",
       "      <td>2015-01-05</td>\n",
       "      <td>AXP</td>\n",
       "      <td>77.756500</td>\n",
       "      <td>92.459999</td>\n",
       "      <td>92.779999</td>\n",
       "      <td>90.320000</td>\n",
       "      <td>3469600</td>\n",
       "      <td>0.000000</td>\n",
       "      <td>0.000000</td>\n",
       "      <td>-66.666667</td>\n",
       "      <td>100.000000</td>\n",
       "    </tr>\n",
       "    <tr>\n",
       "      <th>4</th>\n",
       "      <td>2015-01-05</td>\n",
       "      <td>BA</td>\n",
       "      <td>112.870049</td>\n",
       "      <td>129.660004</td>\n",
       "      <td>129.919998</td>\n",
       "      <td>128.610001</td>\n",
       "      <td>5024800</td>\n",
       "      <td>0.000000</td>\n",
       "      <td>0.000000</td>\n",
       "      <td>-66.666667</td>\n",
       "      <td>100.000000</td>\n",
       "    </tr>\n",
       "    <tr>\n",
       "      <th>...</th>\n",
       "      <td>...</td>\n",
       "      <td>...</td>\n",
       "      <td>...</td>\n",
       "      <td>...</td>\n",
       "      <td>...</td>\n",
       "      <td>...</td>\n",
       "      <td>...</td>\n",
       "      <td>...</td>\n",
       "      <td>...</td>\n",
       "      <td>...</td>\n",
       "      <td>...</td>\n",
       "    </tr>\n",
       "    <tr>\n",
       "      <th>77215</th>\n",
       "      <td>2025-03-28</td>\n",
       "      <td>TRV</td>\n",
       "      <td>261.790009</td>\n",
       "      <td>265.510010</td>\n",
       "      <td>266.309998</td>\n",
       "      <td>261.489990</td>\n",
       "      <td>1185400</td>\n",
       "      <td>-3.669985</td>\n",
       "      <td>44.635636</td>\n",
       "      <td>-60.321271</td>\n",
       "      <td>8.898046</td>\n",
       "    </tr>\n",
       "    <tr>\n",
       "      <th>77216</th>\n",
       "      <td>2025-03-28</td>\n",
       "      <td>UNH</td>\n",
       "      <td>516.039978</td>\n",
       "      <td>516.869995</td>\n",
       "      <td>520.979980</td>\n",
       "      <td>515.049988</td>\n",
       "      <td>2379100</td>\n",
       "      <td>3.442130</td>\n",
       "      <td>56.974744</td>\n",
       "      <td>93.635634</td>\n",
       "      <td>24.673511</td>\n",
       "    </tr>\n",
       "    <tr>\n",
       "      <th>77217</th>\n",
       "      <td>2025-03-28</td>\n",
       "      <td>V</td>\n",
       "      <td>342.281555</td>\n",
       "      <td>349.190002</td>\n",
       "      <td>351.619995</td>\n",
       "      <td>341.609985</td>\n",
       "      <td>5687600</td>\n",
       "      <td>5.170884</td>\n",
       "      <td>51.515071</td>\n",
       "      <td>97.500933</td>\n",
       "      <td>1.661622</td>\n",
       "    </tr>\n",
       "    <tr>\n",
       "      <th>77218</th>\n",
       "      <td>2025-03-28</td>\n",
       "      <td>VZ</td>\n",
       "      <td>44.219753</td>\n",
       "      <td>45.130001</td>\n",
       "      <td>45.340000</td>\n",
       "      <td>44.880001</td>\n",
       "      <td>19530600</td>\n",
       "      <td>-1.002974</td>\n",
       "      <td>49.912685</td>\n",
       "      <td>-103.656814</td>\n",
       "      <td>1.129280</td>\n",
       "    </tr>\n",
       "    <tr>\n",
       "      <th>77219</th>\n",
       "      <td>2025-03-28</td>\n",
       "      <td>WMT</td>\n",
       "      <td>84.944626</td>\n",
       "      <td>85.430000</td>\n",
       "      <td>85.830002</td>\n",
       "      <td>84.699997</td>\n",
       "      <td>14790600</td>\n",
       "      <td>-2.743966</td>\n",
       "      <td>41.749292</td>\n",
       "      <td>-76.593141</td>\n",
       "      <td>19.445940</td>\n",
       "    </tr>\n",
       "  </tbody>\n",
       "</table>\n",
       "<p>77220 rows × 11 columns</p>\n",
       "</div>"
      ],
      "text/plain": [
       "             date ticker       adjcp        open        high         low  \\\n",
       "0      2015-01-05   AAPL   23.604332   27.072500   27.162500   26.352501   \n",
       "1      2015-01-05   AMGN  116.813530  157.429993  159.600006  154.259995   \n",
       "2      2015-01-05   AMZN   15.109500   15.350500   15.419000   15.042500   \n",
       "3      2015-01-05    AXP   77.756500   92.459999   92.779999   90.320000   \n",
       "4      2015-01-05     BA  112.870049  129.660004  129.919998  128.610001   \n",
       "...           ...    ...         ...         ...         ...         ...   \n",
       "77215  2025-03-28    TRV  261.790009  265.510010  266.309998  261.489990   \n",
       "77216  2025-03-28    UNH  516.039978  516.869995  520.979980  515.049988   \n",
       "77217  2025-03-28      V  342.281555  349.190002  351.619995  341.609985   \n",
       "77218  2025-03-28     VZ   44.219753   45.130001   45.340000   44.880001   \n",
       "77219  2025-03-28    WMT   84.944626   85.430000   85.830002   84.699997   \n",
       "\n",
       "          volume      macd        rsi         cci         adx  \n",
       "0      257142000  0.000000   0.000000  -66.666667  100.000000  \n",
       "1        4080300  0.000000   0.000000  -66.666667  100.000000  \n",
       "2       55484000  0.000000   0.000000  -66.666667  100.000000  \n",
       "3        3469600  0.000000   0.000000  -66.666667  100.000000  \n",
       "4        5024800  0.000000   0.000000  -66.666667  100.000000  \n",
       "...          ...       ...        ...         ...         ...  \n",
       "77215    1185400 -3.669985  44.635636  -60.321271    8.898046  \n",
       "77216    2379100  3.442130  56.974744   93.635634   24.673511  \n",
       "77217    5687600  5.170884  51.515071   97.500933    1.661622  \n",
       "77218   19530600 -1.002974  49.912685 -103.656814    1.129280  \n",
       "77219   14790600 -2.743966  41.749292  -76.593141   19.445940  \n",
       "\n",
       "[77220 rows x 11 columns]"
      ]
     },
     "execution_count": 6,
     "metadata": {},
     "output_type": "execute_result"
    }
   ],
   "source": [
    "data_df_US = pd.read_csv('data/DowJones30Index_final.csv', index_col=0)\n",
    "data_df_US"
   ]
  },
  {
   "cell_type": "code",
   "execution_count": 7,
   "metadata": {},
   "outputs": [
    {
     "name": "stdout",
     "output_type": "stream",
     "text": [
      "Last training day of the first training: 2020-10-01\n",
      "Validation starts from: 2020-10-02\n",
      "Trading starts from: 2021-01-04\n"
     ]
    }
   ],
   "source": [
    "START_TRADE_DATE = '2021-01-01'\n",
    "all_dates = data_df_US['date'].unique()\n",
    "start_trade_id = np.where(all_dates>=START_TRADE_DATE)[0][0]\n",
    "start_trade_id = start_trade_id - REBALANCE_WINDOW - 1\n",
    "trade_dates_US = list(all_dates[start_trade_id:])\n",
    "print(f'Last training day of the first training: {trade_dates_US[0]}')\n",
    "print(f'Validation starts from: {trade_dates_US[1]}')\n",
    "print(f'Trading starts from: {trade_dates_US[REBALANCE_WINDOW+1]}')"
   ]
  },
  {
   "cell_type": "markdown",
   "metadata": {},
   "source": [
    "### 1.1. A2C"
   ]
  },
  {
   "cell_type": "code",
   "execution_count": null,
   "metadata": {},
   "outputs": [],
   "source": [
    "train_validate(market='US', model_name='A2C', data_df=data_df_US, trade_dates=trade_dates_US, rebalance_window=REBALANCE_WINDOW)"
   ]
  },
  {
   "cell_type": "code",
   "execution_count": null,
   "metadata": {},
   "outputs": [],
   "source": [
    "run_trading(market='US', model_name='A2C', data_df=data_df_US, trade_dates=trade_dates_US, rebalance_window=REBALANCE_WINDOW)"
   ]
  },
  {
   "cell_type": "markdown",
   "metadata": {},
   "source": [
    "### 1.2. PPO"
   ]
  },
  {
   "cell_type": "code",
   "execution_count": null,
   "metadata": {},
   "outputs": [],
   "source": [
    "train_validate(market='US', model_name='PPO', data_df=data_df_US, trade_dates=trade_dates_US, rebalance_window=REBALANCE_WINDOW)"
   ]
  },
  {
   "cell_type": "code",
   "execution_count": null,
   "metadata": {},
   "outputs": [],
   "source": [
    "run_trading(market='US', model_name='PPO', data_df=data_df_US, trade_dates=trade_dates_US, rebalance_window=REBALANCE_WINDOW)"
   ]
  },
  {
   "cell_type": "markdown",
   "metadata": {},
   "source": [
    "### 1.3. DDPG"
   ]
  },
  {
   "cell_type": "code",
   "execution_count": null,
   "metadata": {},
   "outputs": [],
   "source": [
    "train_validate(market='US', model_name='DDPG', data_df=data_df_US, trade_dates=trade_dates_US, rebalance_window=REBALANCE_WINDOW)"
   ]
  },
  {
   "cell_type": "code",
   "execution_count": null,
   "metadata": {},
   "outputs": [],
   "source": [
    "run_trading(market='US', model_name='DDPG', data_df=data_df_US, trade_dates=trade_dates_US, rebalance_window=REBALANCE_WINDOW)"
   ]
  },
  {
   "cell_type": "markdown",
   "metadata": {},
   "source": [
    "### 1.4. TD3"
   ]
  },
  {
   "cell_type": "code",
   "execution_count": null,
   "metadata": {},
   "outputs": [],
   "source": [
    "train_validate(market='US', model_name='TD3', data_df=data_df_US, trade_dates=trade_dates_US, rebalance_window=REBALANCE_WINDOW)"
   ]
  },
  {
   "cell_type": "code",
   "execution_count": null,
   "metadata": {},
   "outputs": [],
   "source": [
    "run_trading(market='US', model_name='TD3', data_df=data_df_US, trade_dates=trade_dates_US, rebalance_window=REBALANCE_WINDOW)"
   ]
  },
  {
   "cell_type": "markdown",
   "metadata": {},
   "source": [
    "## 2. Japan: TOPIX 30 Index"
   ]
  },
  {
   "cell_type": "code",
   "execution_count": 17,
   "metadata": {},
   "outputs": [
    {
     "data": {
      "text/html": [
       "<div>\n",
       "<style scoped>\n",
       "    .dataframe tbody tr th:only-of-type {\n",
       "        vertical-align: middle;\n",
       "    }\n",
       "\n",
       "    .dataframe tbody tr th {\n",
       "        vertical-align: top;\n",
       "    }\n",
       "\n",
       "    .dataframe thead th {\n",
       "        text-align: right;\n",
       "    }\n",
       "</style>\n",
       "<table border=\"1\" class=\"dataframe\">\n",
       "  <thead>\n",
       "    <tr style=\"text-align: right;\">\n",
       "      <th></th>\n",
       "      <th>date</th>\n",
       "      <th>ticker</th>\n",
       "      <th>adjcp</th>\n",
       "      <th>open</th>\n",
       "      <th>high</th>\n",
       "      <th>low</th>\n",
       "      <th>volume</th>\n",
       "      <th>macd</th>\n",
       "      <th>rsi</th>\n",
       "      <th>cci</th>\n",
       "      <th>adx</th>\n",
       "    </tr>\n",
       "  </thead>\n",
       "  <tbody>\n",
       "    <tr>\n",
       "      <th>0</th>\n",
       "      <td>2015-01-05</td>\n",
       "      <td>2914.T</td>\n",
       "      <td>1919.940430</td>\n",
       "      <td>3288.500000</td>\n",
       "      <td>3295.000000</td>\n",
       "      <td>3226.000000</td>\n",
       "      <td>5627300.0</td>\n",
       "      <td>0.000000</td>\n",
       "      <td>0.000000</td>\n",
       "      <td>-66.666667</td>\n",
       "      <td>100.000000</td>\n",
       "    </tr>\n",
       "    <tr>\n",
       "      <th>1</th>\n",
       "      <td>2015-01-05</td>\n",
       "      <td>3382.T</td>\n",
       "      <td>1167.011719</td>\n",
       "      <td>1443.333374</td>\n",
       "      <td>1456.333374</td>\n",
       "      <td>1431.666626</td>\n",
       "      <td>6087300.0</td>\n",
       "      <td>0.000000</td>\n",
       "      <td>0.000000</td>\n",
       "      <td>-66.666667</td>\n",
       "      <td>100.000000</td>\n",
       "    </tr>\n",
       "    <tr>\n",
       "      <th>2</th>\n",
       "      <td>2015-01-05</td>\n",
       "      <td>4063.T</td>\n",
       "      <td>1312.988770</td>\n",
       "      <td>1566.800049</td>\n",
       "      <td>1595.400024</td>\n",
       "      <td>1561.400024</td>\n",
       "      <td>4520000.0</td>\n",
       "      <td>0.000000</td>\n",
       "      <td>0.000000</td>\n",
       "      <td>-66.666667</td>\n",
       "      <td>100.000000</td>\n",
       "    </tr>\n",
       "    <tr>\n",
       "      <th>3</th>\n",
       "      <td>2015-01-05</td>\n",
       "      <td>4502.T</td>\n",
       "      <td>3257.554443</td>\n",
       "      <td>4983.500000</td>\n",
       "      <td>5027.000000</td>\n",
       "      <td>4923.000000</td>\n",
       "      <td>1858000.0</td>\n",
       "      <td>0.000000</td>\n",
       "      <td>0.000000</td>\n",
       "      <td>-66.666667</td>\n",
       "      <td>100.000000</td>\n",
       "    </tr>\n",
       "    <tr>\n",
       "      <th>4</th>\n",
       "      <td>2015-01-05</td>\n",
       "      <td>4568.T</td>\n",
       "      <td>471.281891</td>\n",
       "      <td>558.666687</td>\n",
       "      <td>560.666687</td>\n",
       "      <td>552.333313</td>\n",
       "      <td>14561100.0</td>\n",
       "      <td>0.000000</td>\n",
       "      <td>0.000000</td>\n",
       "      <td>-66.666667</td>\n",
       "      <td>100.000000</td>\n",
       "    </tr>\n",
       "    <tr>\n",
       "      <th>...</th>\n",
       "      <td>...</td>\n",
       "      <td>...</td>\n",
       "      <td>...</td>\n",
       "      <td>...</td>\n",
       "      <td>...</td>\n",
       "      <td>...</td>\n",
       "      <td>...</td>\n",
       "      <td>...</td>\n",
       "      <td>...</td>\n",
       "      <td>...</td>\n",
       "      <td>...</td>\n",
       "    </tr>\n",
       "    <tr>\n",
       "      <th>75655</th>\n",
       "      <td>2025-03-28</td>\n",
       "      <td>9432.T</td>\n",
       "      <td>146.600006</td>\n",
       "      <td>147.500000</td>\n",
       "      <td>147.899994</td>\n",
       "      <td>146.300003</td>\n",
       "      <td>181251800.0</td>\n",
       "      <td>214.588829</td>\n",
       "      <td>63.812462</td>\n",
       "      <td>122.092833</td>\n",
       "      <td>26.277735</td>\n",
       "    </tr>\n",
       "    <tr>\n",
       "      <th>75656</th>\n",
       "      <td>2025-03-28</td>\n",
       "      <td>9433.T</td>\n",
       "      <td>2442.500000</td>\n",
       "      <td>2438.500000</td>\n",
       "      <td>2442.500000</td>\n",
       "      <td>2387.000000</td>\n",
       "      <td>7566500.0</td>\n",
       "      <td>0.113848</td>\n",
       "      <td>49.471773</td>\n",
       "      <td>15.574296</td>\n",
       "      <td>14.024257</td>\n",
       "    </tr>\n",
       "    <tr>\n",
       "      <th>75657</th>\n",
       "      <td>2025-03-28</td>\n",
       "      <td>9434.T</td>\n",
       "      <td>212.100006</td>\n",
       "      <td>211.500000</td>\n",
       "      <td>212.500000</td>\n",
       "      <td>208.899994</td>\n",
       "      <td>85659400.0</td>\n",
       "      <td>-7.458409</td>\n",
       "      <td>52.840206</td>\n",
       "      <td>-0.624332</td>\n",
       "      <td>11.199852</td>\n",
       "    </tr>\n",
       "    <tr>\n",
       "      <th>75658</th>\n",
       "      <td>2025-03-28</td>\n",
       "      <td>9983.T</td>\n",
       "      <td>45740.000000</td>\n",
       "      <td>46440.000000</td>\n",
       "      <td>46440.000000</td>\n",
       "      <td>45250.000000</td>\n",
       "      <td>1390000.0</td>\n",
       "      <td>6.202154</td>\n",
       "      <td>47.586720</td>\n",
       "      <td>-84.782479</td>\n",
       "      <td>2.653637</td>\n",
       "    </tr>\n",
       "    <tr>\n",
       "      <th>75659</th>\n",
       "      <td>2025-03-28</td>\n",
       "      <td>9984.T</td>\n",
       "      <td>7920.000000</td>\n",
       "      <td>7850.000000</td>\n",
       "      <td>7925.000000</td>\n",
       "      <td>7841.000000</td>\n",
       "      <td>6532700.0</td>\n",
       "      <td>-235.014574</td>\n",
       "      <td>42.699494</td>\n",
       "      <td>-63.116835</td>\n",
       "      <td>11.524606</td>\n",
       "    </tr>\n",
       "  </tbody>\n",
       "</table>\n",
       "<p>75660 rows × 11 columns</p>\n",
       "</div>"
      ],
      "text/plain": [
       "             date  ticker         adjcp          open          high  \\\n",
       "0      2015-01-05  2914.T   1919.940430   3288.500000   3295.000000   \n",
       "1      2015-01-05  3382.T   1167.011719   1443.333374   1456.333374   \n",
       "2      2015-01-05  4063.T   1312.988770   1566.800049   1595.400024   \n",
       "3      2015-01-05  4502.T   3257.554443   4983.500000   5027.000000   \n",
       "4      2015-01-05  4568.T    471.281891    558.666687    560.666687   \n",
       "...           ...     ...           ...           ...           ...   \n",
       "75655  2025-03-28  9432.T    146.600006    147.500000    147.899994   \n",
       "75656  2025-03-28  9433.T   2442.500000   2438.500000   2442.500000   \n",
       "75657  2025-03-28  9434.T    212.100006    211.500000    212.500000   \n",
       "75658  2025-03-28  9983.T  45740.000000  46440.000000  46440.000000   \n",
       "75659  2025-03-28  9984.T   7920.000000   7850.000000   7925.000000   \n",
       "\n",
       "                low       volume        macd        rsi         cci  \\\n",
       "0       3226.000000    5627300.0    0.000000   0.000000  -66.666667   \n",
       "1       1431.666626    6087300.0    0.000000   0.000000  -66.666667   \n",
       "2       1561.400024    4520000.0    0.000000   0.000000  -66.666667   \n",
       "3       4923.000000    1858000.0    0.000000   0.000000  -66.666667   \n",
       "4        552.333313   14561100.0    0.000000   0.000000  -66.666667   \n",
       "...             ...          ...         ...        ...         ...   \n",
       "75655    146.300003  181251800.0  214.588829  63.812462  122.092833   \n",
       "75656   2387.000000    7566500.0    0.113848  49.471773   15.574296   \n",
       "75657    208.899994   85659400.0   -7.458409  52.840206   -0.624332   \n",
       "75658  45250.000000    1390000.0    6.202154  47.586720  -84.782479   \n",
       "75659   7841.000000    6532700.0 -235.014574  42.699494  -63.116835   \n",
       "\n",
       "              adx  \n",
       "0      100.000000  \n",
       "1      100.000000  \n",
       "2      100.000000  \n",
       "3      100.000000  \n",
       "4      100.000000  \n",
       "...           ...  \n",
       "75655   26.277735  \n",
       "75656   14.024257  \n",
       "75657   11.199852  \n",
       "75658    2.653637  \n",
       "75659   11.524606  \n",
       "\n",
       "[75660 rows x 11 columns]"
      ]
     },
     "execution_count": 17,
     "metadata": {},
     "output_type": "execute_result"
    }
   ],
   "source": [
    "data_df_JP = pd.read_csv('data/TOPIX30Index_final.csv', index_col=0)\n",
    "data_df_JP"
   ]
  },
  {
   "cell_type": "code",
   "execution_count": 18,
   "metadata": {},
   "outputs": [
    {
     "name": "stdout",
     "output_type": "stream",
     "text": [
      "Last training day of the first training: 2020-09-29\n",
      "Validation starts from: 2020-09-30\n",
      "Trading starts from: 2021-01-04\n"
     ]
    }
   ],
   "source": [
    "START_TRADE_DATE = '2021-01-01'\n",
    "all_dates = data_df_JP['date'].unique()\n",
    "start_trade_id = np.where(all_dates>=START_TRADE_DATE)[0][0]\n",
    "start_trade_id = start_trade_id - REBALANCE_WINDOW - 1\n",
    "trade_dates_JP = list(all_dates[start_trade_id:])\n",
    "print(f'Last training day of the first training: {trade_dates_JP[0]}')\n",
    "print(f'Validation starts from: {trade_dates_JP[1]}')\n",
    "print(f'Trading starts from: {trade_dates_JP[REBALANCE_WINDOW+1]}')"
   ]
  },
  {
   "cell_type": "markdown",
   "metadata": {},
   "source": [
    "### 2.1. A2C"
   ]
  },
  {
   "cell_type": "code",
   "execution_count": null,
   "metadata": {},
   "outputs": [],
   "source": [
    "train_validate(market='JP', model_name='A2C', data_df=data_df_JP, trade_dates=trade_dates_JP, rebalance_window=REBALANCE_WINDOW)"
   ]
  },
  {
   "cell_type": "code",
   "execution_count": null,
   "metadata": {},
   "outputs": [],
   "source": [
    "run_trading(market='JP', model_name='A2C', data_df=data_df_JP, trade_dates=trade_dates_JP, rebalance_window=REBALANCE_WINDOW)"
   ]
  },
  {
   "cell_type": "markdown",
   "metadata": {},
   "source": [
    "### 2.2. PPO"
   ]
  },
  {
   "cell_type": "code",
   "execution_count": null,
   "metadata": {},
   "outputs": [],
   "source": [
    "train_validate(market='JP', model_name='PPO', data_df=data_df_JP, trade_dates=trade_dates_JP, rebalance_window=REBALANCE_WINDOW)"
   ]
  },
  {
   "cell_type": "code",
   "execution_count": null,
   "metadata": {},
   "outputs": [],
   "source": [
    "run_trading(market='JP', model_name='PPO', data_df=data_df_JP, trade_dates=trade_dates_JP, rebalance_window=REBALANCE_WINDOW)"
   ]
  },
  {
   "cell_type": "markdown",
   "metadata": {},
   "source": [
    "### 2.3. DDPG"
   ]
  },
  {
   "cell_type": "code",
   "execution_count": null,
   "metadata": {},
   "outputs": [],
   "source": [
    "train_validate(market='JP', model_name='DDPG', data_df=data_df_JP, trade_dates=trade_dates_JP, rebalance_window=REBALANCE_WINDOW)"
   ]
  },
  {
   "cell_type": "code",
   "execution_count": null,
   "metadata": {},
   "outputs": [],
   "source": [
    "run_trading(market='JP', model_name='DDPG', data_df=data_df_JP, trade_dates=trade_dates_JP, rebalance_window=REBALANCE_WINDOW)"
   ]
  },
  {
   "cell_type": "markdown",
   "metadata": {},
   "source": [
    "### 2.4. TD3"
   ]
  },
  {
   "cell_type": "code",
   "execution_count": null,
   "metadata": {},
   "outputs": [],
   "source": [
    "train_validate(market='JP', model_name='TD3', data_df=data_df_JP, trade_dates=trade_dates_JP, rebalance_window=REBALANCE_WINDOW)"
   ]
  },
  {
   "cell_type": "code",
   "execution_count": null,
   "metadata": {},
   "outputs": [],
   "source": [
    "run_trading(market='JP', model_name='TD3', data_df=data_df_JP, trade_dates=trade_dates_JP, rebalance_window=REBALANCE_WINDOW)"
   ]
  },
  {
   "cell_type": "markdown",
   "metadata": {},
   "source": [
    "## 3. Vietnam: VN30 Index"
   ]
  },
  {
   "cell_type": "code",
   "execution_count": 3,
   "metadata": {},
   "outputs": [
    {
     "data": {
      "text/html": [
       "<div>\n",
       "<style scoped>\n",
       "    .dataframe tbody tr th:only-of-type {\n",
       "        vertical-align: middle;\n",
       "    }\n",
       "\n",
       "    .dataframe tbody tr th {\n",
       "        vertical-align: top;\n",
       "    }\n",
       "\n",
       "    .dataframe thead th {\n",
       "        text-align: right;\n",
       "    }\n",
       "</style>\n",
       "<table border=\"1\" class=\"dataframe\">\n",
       "  <thead>\n",
       "    <tr style=\"text-align: right;\">\n",
       "      <th></th>\n",
       "      <th>date</th>\n",
       "      <th>ticker</th>\n",
       "      <th>adjcp</th>\n",
       "      <th>open</th>\n",
       "      <th>high</th>\n",
       "      <th>low</th>\n",
       "      <th>volume</th>\n",
       "      <th>macd</th>\n",
       "      <th>rsi</th>\n",
       "      <th>cci</th>\n",
       "      <th>adx</th>\n",
       "    </tr>\n",
       "  </thead>\n",
       "  <tbody>\n",
       "    <tr>\n",
       "      <th>0</th>\n",
       "      <td>2018-07-02</td>\n",
       "      <td>ACB</td>\n",
       "      <td>6.43</td>\n",
       "      <td>6.87</td>\n",
       "      <td>6.87</td>\n",
       "      <td>6.33</td>\n",
       "      <td>6858520.0</td>\n",
       "      <td>0.000000</td>\n",
       "      <td>0.000000</td>\n",
       "      <td>-66.666667</td>\n",
       "      <td>100.000000</td>\n",
       "    </tr>\n",
       "    <tr>\n",
       "      <th>1</th>\n",
       "      <td>2018-07-02</td>\n",
       "      <td>AGR</td>\n",
       "      <td>3.11</td>\n",
       "      <td>3.11</td>\n",
       "      <td>3.12</td>\n",
       "      <td>3.06</td>\n",
       "      <td>45020.0</td>\n",
       "      <td>0.000000</td>\n",
       "      <td>0.000000</td>\n",
       "      <td>-66.666667</td>\n",
       "      <td>100.000000</td>\n",
       "    </tr>\n",
       "    <tr>\n",
       "      <th>2</th>\n",
       "      <td>2018-07-02</td>\n",
       "      <td>BCM</td>\n",
       "      <td>17.83</td>\n",
       "      <td>17.83</td>\n",
       "      <td>17.83</td>\n",
       "      <td>17.83</td>\n",
       "      <td>100.0</td>\n",
       "      <td>0.000000</td>\n",
       "      <td>0.000000</td>\n",
       "      <td>-66.666667</td>\n",
       "      <td>100.000000</td>\n",
       "    </tr>\n",
       "    <tr>\n",
       "      <th>3</th>\n",
       "      <td>2018-07-02</td>\n",
       "      <td>BID</td>\n",
       "      <td>13.66</td>\n",
       "      <td>14.07</td>\n",
       "      <td>14.35</td>\n",
       "      <td>13.44</td>\n",
       "      <td>3542250.0</td>\n",
       "      <td>0.000000</td>\n",
       "      <td>0.000000</td>\n",
       "      <td>-66.666667</td>\n",
       "      <td>100.000000</td>\n",
       "    </tr>\n",
       "    <tr>\n",
       "      <th>4</th>\n",
       "      <td>2018-07-02</td>\n",
       "      <td>BVH</td>\n",
       "      <td>65.19</td>\n",
       "      <td>67.06</td>\n",
       "      <td>70.19</td>\n",
       "      <td>64.35</td>\n",
       "      <td>128870.0</td>\n",
       "      <td>0.000000</td>\n",
       "      <td>0.000000</td>\n",
       "      <td>-66.666667</td>\n",
       "      <td>100.000000</td>\n",
       "    </tr>\n",
       "    <tr>\n",
       "      <th>...</th>\n",
       "      <td>...</td>\n",
       "      <td>...</td>\n",
       "      <td>...</td>\n",
       "      <td>...</td>\n",
       "      <td>...</td>\n",
       "      <td>...</td>\n",
       "      <td>...</td>\n",
       "      <td>...</td>\n",
       "      <td>...</td>\n",
       "      <td>...</td>\n",
       "      <td>...</td>\n",
       "    </tr>\n",
       "    <tr>\n",
       "      <th>50605</th>\n",
       "      <td>2025-03-31</td>\n",
       "      <td>VIC</td>\n",
       "      <td>58.00</td>\n",
       "      <td>57.80</td>\n",
       "      <td>58.50</td>\n",
       "      <td>57.30</td>\n",
       "      <td>6654000.0</td>\n",
       "      <td>-0.157237</td>\n",
       "      <td>45.902389</td>\n",
       "      <td>120.045068</td>\n",
       "      <td>11.080777</td>\n",
       "    </tr>\n",
       "    <tr>\n",
       "      <th>50606</th>\n",
       "      <td>2025-03-31</td>\n",
       "      <td>VJC</td>\n",
       "      <td>95.00</td>\n",
       "      <td>95.90</td>\n",
       "      <td>95.90</td>\n",
       "      <td>94.70</td>\n",
       "      <td>524800.0</td>\n",
       "      <td>4.038610</td>\n",
       "      <td>86.630697</td>\n",
       "      <td>120.045068</td>\n",
       "      <td>60.646184</td>\n",
       "    </tr>\n",
       "    <tr>\n",
       "      <th>50607</th>\n",
       "      <td>2025-03-31</td>\n",
       "      <td>VNM</td>\n",
       "      <td>58.53</td>\n",
       "      <td>58.72</td>\n",
       "      <td>59.49</td>\n",
       "      <td>58.53</td>\n",
       "      <td>5308209.0</td>\n",
       "      <td>-0.413602</td>\n",
       "      <td>38.714407</td>\n",
       "      <td>-197.782362</td>\n",
       "      <td>23.656456</td>\n",
       "    </tr>\n",
       "    <tr>\n",
       "      <th>50608</th>\n",
       "      <td>2025-03-31</td>\n",
       "      <td>VPB</td>\n",
       "      <td>18.50</td>\n",
       "      <td>18.64</td>\n",
       "      <td>18.74</td>\n",
       "      <td>18.50</td>\n",
       "      <td>14768166.0</td>\n",
       "      <td>-0.072691</td>\n",
       "      <td>44.392790</td>\n",
       "      <td>-82.252878</td>\n",
       "      <td>2.737455</td>\n",
       "    </tr>\n",
       "    <tr>\n",
       "      <th>50609</th>\n",
       "      <td>2025-03-31</td>\n",
       "      <td>VRE</td>\n",
       "      <td>19.15</td>\n",
       "      <td>19.30</td>\n",
       "      <td>19.45</td>\n",
       "      <td>19.05</td>\n",
       "      <td>11536000.0</td>\n",
       "      <td>0.560735</td>\n",
       "      <td>61.059579</td>\n",
       "      <td>94.312675</td>\n",
       "      <td>24.332114</td>\n",
       "    </tr>\n",
       "  </tbody>\n",
       "</table>\n",
       "<p>50610 rows × 11 columns</p>\n",
       "</div>"
      ],
      "text/plain": [
       "             date ticker  adjcp   open   high    low      volume      macd  \\\n",
       "0      2018-07-02    ACB   6.43   6.87   6.87   6.33   6858520.0  0.000000   \n",
       "1      2018-07-02    AGR   3.11   3.11   3.12   3.06     45020.0  0.000000   \n",
       "2      2018-07-02    BCM  17.83  17.83  17.83  17.83       100.0  0.000000   \n",
       "3      2018-07-02    BID  13.66  14.07  14.35  13.44   3542250.0  0.000000   \n",
       "4      2018-07-02    BVH  65.19  67.06  70.19  64.35    128870.0  0.000000   \n",
       "...           ...    ...    ...    ...    ...    ...         ...       ...   \n",
       "50605  2025-03-31    VIC  58.00  57.80  58.50  57.30   6654000.0 -0.157237   \n",
       "50606  2025-03-31    VJC  95.00  95.90  95.90  94.70    524800.0  4.038610   \n",
       "50607  2025-03-31    VNM  58.53  58.72  59.49  58.53   5308209.0 -0.413602   \n",
       "50608  2025-03-31    VPB  18.50  18.64  18.74  18.50  14768166.0 -0.072691   \n",
       "50609  2025-03-31    VRE  19.15  19.30  19.45  19.05  11536000.0  0.560735   \n",
       "\n",
       "             rsi         cci         adx  \n",
       "0       0.000000  -66.666667  100.000000  \n",
       "1       0.000000  -66.666667  100.000000  \n",
       "2       0.000000  -66.666667  100.000000  \n",
       "3       0.000000  -66.666667  100.000000  \n",
       "4       0.000000  -66.666667  100.000000  \n",
       "...          ...         ...         ...  \n",
       "50605  45.902389  120.045068   11.080777  \n",
       "50606  86.630697  120.045068   60.646184  \n",
       "50607  38.714407 -197.782362   23.656456  \n",
       "50608  44.392790  -82.252878    2.737455  \n",
       "50609  61.059579   94.312675   24.332114  \n",
       "\n",
       "[50610 rows x 11 columns]"
      ]
     },
     "execution_count": 3,
     "metadata": {},
     "output_type": "execute_result"
    }
   ],
   "source": [
    "data_df_VN = pd.read_csv('data/VN30Index_final.csv', index_col=0)\n",
    "data_df_VN"
   ]
  },
  {
   "cell_type": "code",
   "execution_count": 4,
   "metadata": {},
   "outputs": [
    {
     "name": "stdout",
     "output_type": "stream",
     "text": [
      "Last training day of the first training: 2022-10-04\n",
      "Validation starts from: 2022-10-05\n",
      "Trading starts from: 2023-01-03\n"
     ]
    }
   ],
   "source": [
    "START_TRADE_DATE = '2023-01-01'\n",
    "all_dates = data_df_VN['date'].unique()\n",
    "start_trade_id = np.where(all_dates>=START_TRADE_DATE)[0][0]\n",
    "start_trade_id = start_trade_id - REBALANCE_WINDOW - 1\n",
    "trade_dates_VN = list(all_dates[start_trade_id:])\n",
    "print(f'Last training day of the first training: {trade_dates_VN[0]}')\n",
    "print(f'Validation starts from: {trade_dates_VN[1]}')\n",
    "print(f'Trading starts from: {trade_dates_VN[REBALANCE_WINDOW+1]}')"
   ]
  },
  {
   "cell_type": "markdown",
   "metadata": {},
   "source": [
    "### 3.1. A2C"
   ]
  },
  {
   "cell_type": "code",
   "execution_count": null,
   "metadata": {},
   "outputs": [],
   "source": [
    "train_validate(market='VN', model_name='A2C', data_df=data_df_VN, trade_dates=trade_dates_VN, rebalance_window=REBALANCE_WINDOW)"
   ]
  },
  {
   "cell_type": "code",
   "execution_count": null,
   "metadata": {},
   "outputs": [],
   "source": [
    "run_trading(market='VN', model_name='A2C', data_df=data_df_VN, trade_dates=trade_dates_VN, rebalance_window=REBALANCE_WINDOW)"
   ]
  },
  {
   "cell_type": "markdown",
   "metadata": {},
   "source": [
    "### 3.2. PPO"
   ]
  },
  {
   "cell_type": "code",
   "execution_count": null,
   "metadata": {},
   "outputs": [],
   "source": [
    "train_validate(market='VN', model_name='PPO', data_df=data_df_VN, trade_dates=trade_dates_VN, rebalance_window=REBALANCE_WINDOW)"
   ]
  },
  {
   "cell_type": "code",
   "execution_count": null,
   "metadata": {},
   "outputs": [],
   "source": [
    "run_trading(market='VN', model_name='PPO', data_df=data_df_VN, trade_dates=trade_dates_VN, rebalance_window=REBALANCE_WINDOW)"
   ]
  },
  {
   "cell_type": "markdown",
   "metadata": {},
   "source": [
    "### 3.3. DDPG"
   ]
  },
  {
   "cell_type": "code",
   "execution_count": null,
   "metadata": {},
   "outputs": [],
   "source": [
    "train_validate(market='VN', model_name='DDPG', data_df=data_df_VN, trade_dates=trade_dates_VN, rebalance_window=REBALANCE_WINDOW)"
   ]
  },
  {
   "cell_type": "code",
   "execution_count": null,
   "metadata": {},
   "outputs": [],
   "source": [
    "run_trading(market='VN', model_name='DDPG', data_df=data_df_VN, trade_dates=trade_dates_VN, rebalance_window=REBALANCE_WINDOW)"
   ]
  },
  {
   "cell_type": "markdown",
   "metadata": {},
   "source": [
    "### 3.4. TD3"
   ]
  },
  {
   "cell_type": "code",
   "execution_count": null,
   "metadata": {},
   "outputs": [],
   "source": [
    "train_validate(market='VN', model_name='TD3', data_df=data_df_VN, trade_dates=trade_dates_VN, rebalance_window=REBALANCE_WINDOW)"
   ]
  },
  {
   "cell_type": "code",
   "execution_count": null,
   "metadata": {},
   "outputs": [],
   "source": [
    "run_trading(market='VN', model_name='TD3', data_df=data_df_VN, trade_dates=trade_dates_VN, rebalance_window=REBALANCE_WINDOW)"
   ]
  },
  {
   "cell_type": "markdown",
   "metadata": {},
   "source": [
    "## 4. Vietnam: Qualified Stocks published before 2015"
   ]
  },
  {
   "cell_type": "code",
   "execution_count": 3,
   "metadata": {},
   "outputs": [
    {
     "data": {
      "text/html": [
       "<div>\n",
       "<style scoped>\n",
       "    .dataframe tbody tr th:only-of-type {\n",
       "        vertical-align: middle;\n",
       "    }\n",
       "\n",
       "    .dataframe tbody tr th {\n",
       "        vertical-align: top;\n",
       "    }\n",
       "\n",
       "    .dataframe thead th {\n",
       "        text-align: right;\n",
       "    }\n",
       "</style>\n",
       "<table border=\"1\" class=\"dataframe\">\n",
       "  <thead>\n",
       "    <tr style=\"text-align: right;\">\n",
       "      <th></th>\n",
       "      <th>date</th>\n",
       "      <th>ticker</th>\n",
       "      <th>adjcp</th>\n",
       "      <th>open</th>\n",
       "      <th>high</th>\n",
       "      <th>low</th>\n",
       "      <th>volume</th>\n",
       "      <th>macd</th>\n",
       "      <th>rsi</th>\n",
       "      <th>cci</th>\n",
       "      <th>adx</th>\n",
       "    </tr>\n",
       "  </thead>\n",
       "  <tbody>\n",
       "    <tr>\n",
       "      <th>0</th>\n",
       "      <td>2015-01-05</td>\n",
       "      <td>ACB</td>\n",
       "      <td>2.34</td>\n",
       "      <td>2.35</td>\n",
       "      <td>2.35</td>\n",
       "      <td>2.32</td>\n",
       "      <td>55888.0</td>\n",
       "      <td>0.000000</td>\n",
       "      <td>100.000000</td>\n",
       "      <td>66.666667</td>\n",
       "      <td>100.000000</td>\n",
       "    </tr>\n",
       "    <tr>\n",
       "      <th>1</th>\n",
       "      <td>2015-01-05</td>\n",
       "      <td>AGR</td>\n",
       "      <td>5.35</td>\n",
       "      <td>5.26</td>\n",
       "      <td>5.35</td>\n",
       "      <td>5.26</td>\n",
       "      <td>93170.0</td>\n",
       "      <td>0.000000</td>\n",
       "      <td>100.000000</td>\n",
       "      <td>66.666667</td>\n",
       "      <td>100.000000</td>\n",
       "    </tr>\n",
       "    <tr>\n",
       "      <th>2</th>\n",
       "      <td>2015-01-05</td>\n",
       "      <td>BID</td>\n",
       "      <td>5.91</td>\n",
       "      <td>5.91</td>\n",
       "      <td>5.96</td>\n",
       "      <td>5.91</td>\n",
       "      <td>66380.0</td>\n",
       "      <td>0.000000</td>\n",
       "      <td>100.000000</td>\n",
       "      <td>66.666667</td>\n",
       "      <td>100.000000</td>\n",
       "    </tr>\n",
       "    <tr>\n",
       "      <th>3</th>\n",
       "      <td>2015-01-05</td>\n",
       "      <td>BVH</td>\n",
       "      <td>26.55</td>\n",
       "      <td>25.59</td>\n",
       "      <td>26.94</td>\n",
       "      <td>25.59</td>\n",
       "      <td>984900.0</td>\n",
       "      <td>0.000000</td>\n",
       "      <td>100.000000</td>\n",
       "      <td>66.666667</td>\n",
       "      <td>100.000000</td>\n",
       "    </tr>\n",
       "    <tr>\n",
       "      <th>4</th>\n",
       "      <td>2015-01-05</td>\n",
       "      <td>CTG</td>\n",
       "      <td>8.17</td>\n",
       "      <td>8.12</td>\n",
       "      <td>8.23</td>\n",
       "      <td>8.12</td>\n",
       "      <td>60490.0</td>\n",
       "      <td>0.000000</td>\n",
       "      <td>100.000000</td>\n",
       "      <td>66.666667</td>\n",
       "      <td>100.000000</td>\n",
       "    </tr>\n",
       "    <tr>\n",
       "      <th>...</th>\n",
       "      <td>...</td>\n",
       "      <td>...</td>\n",
       "      <td>...</td>\n",
       "      <td>...</td>\n",
       "      <td>...</td>\n",
       "      <td>...</td>\n",
       "      <td>...</td>\n",
       "      <td>...</td>\n",
       "      <td>...</td>\n",
       "      <td>...</td>\n",
       "      <td>...</td>\n",
       "    </tr>\n",
       "    <tr>\n",
       "      <th>76705</th>\n",
       "      <td>2025-03-31</td>\n",
       "      <td>VHM</td>\n",
       "      <td>58.00</td>\n",
       "      <td>57.80</td>\n",
       "      <td>58.50</td>\n",
       "      <td>57.30</td>\n",
       "      <td>6654000.0</td>\n",
       "      <td>0.663964</td>\n",
       "      <td>51.778060</td>\n",
       "      <td>6.161769</td>\n",
       "      <td>14.859633</td>\n",
       "    </tr>\n",
       "    <tr>\n",
       "      <th>76706</th>\n",
       "      <td>2025-03-31</td>\n",
       "      <td>VIC</td>\n",
       "      <td>58.00</td>\n",
       "      <td>57.80</td>\n",
       "      <td>58.50</td>\n",
       "      <td>57.30</td>\n",
       "      <td>6654000.0</td>\n",
       "      <td>2.588240</td>\n",
       "      <td>78.112210</td>\n",
       "      <td>120.045068</td>\n",
       "      <td>48.772597</td>\n",
       "    </tr>\n",
       "    <tr>\n",
       "      <th>76707</th>\n",
       "      <td>2025-03-31</td>\n",
       "      <td>VIX</td>\n",
       "      <td>58.53</td>\n",
       "      <td>58.72</td>\n",
       "      <td>59.49</td>\n",
       "      <td>58.53</td>\n",
       "      <td>5308209.0</td>\n",
       "      <td>4.038610</td>\n",
       "      <td>86.630697</td>\n",
       "      <td>120.045068</td>\n",
       "      <td>60.646184</td>\n",
       "    </tr>\n",
       "    <tr>\n",
       "      <th>76708</th>\n",
       "      <td>2025-03-31</td>\n",
       "      <td>VND</td>\n",
       "      <td>58.53</td>\n",
       "      <td>58.72</td>\n",
       "      <td>59.49</td>\n",
       "      <td>58.53</td>\n",
       "      <td>5308209.0</td>\n",
       "      <td>0.087707</td>\n",
       "      <td>56.988075</td>\n",
       "      <td>166.020672</td>\n",
       "      <td>28.065928</td>\n",
       "    </tr>\n",
       "    <tr>\n",
       "      <th>76709</th>\n",
       "      <td>2025-03-31</td>\n",
       "      <td>VNM</td>\n",
       "      <td>58.53</td>\n",
       "      <td>58.72</td>\n",
       "      <td>59.49</td>\n",
       "      <td>58.53</td>\n",
       "      <td>5308209.0</td>\n",
       "      <td>-0.328211</td>\n",
       "      <td>43.240064</td>\n",
       "      <td>-98.377502</td>\n",
       "      <td>5.977258</td>\n",
       "    </tr>\n",
       "  </tbody>\n",
       "</table>\n",
       "<p>76710 rows × 11 columns</p>\n",
       "</div>"
      ],
      "text/plain": [
       "             date ticker  adjcp   open   high    low     volume      macd  \\\n",
       "0      2015-01-05    ACB   2.34   2.35   2.35   2.32    55888.0  0.000000   \n",
       "1      2015-01-05    AGR   5.35   5.26   5.35   5.26    93170.0  0.000000   \n",
       "2      2015-01-05    BID   5.91   5.91   5.96   5.91    66380.0  0.000000   \n",
       "3      2015-01-05    BVH  26.55  25.59  26.94  25.59   984900.0  0.000000   \n",
       "4      2015-01-05    CTG   8.17   8.12   8.23   8.12    60490.0  0.000000   \n",
       "...           ...    ...    ...    ...    ...    ...        ...       ...   \n",
       "76705  2025-03-31    VHM  58.00  57.80  58.50  57.30  6654000.0  0.663964   \n",
       "76706  2025-03-31    VIC  58.00  57.80  58.50  57.30  6654000.0  2.588240   \n",
       "76707  2025-03-31    VIX  58.53  58.72  59.49  58.53  5308209.0  4.038610   \n",
       "76708  2025-03-31    VND  58.53  58.72  59.49  58.53  5308209.0  0.087707   \n",
       "76709  2025-03-31    VNM  58.53  58.72  59.49  58.53  5308209.0 -0.328211   \n",
       "\n",
       "              rsi         cci         adx  \n",
       "0      100.000000   66.666667  100.000000  \n",
       "1      100.000000   66.666667  100.000000  \n",
       "2      100.000000   66.666667  100.000000  \n",
       "3      100.000000   66.666667  100.000000  \n",
       "4      100.000000   66.666667  100.000000  \n",
       "...           ...         ...         ...  \n",
       "76705   51.778060    6.161769   14.859633  \n",
       "76706   78.112210  120.045068   48.772597  \n",
       "76707   86.630697  120.045068   60.646184  \n",
       "76708   56.988075  166.020672   28.065928  \n",
       "76709   43.240064  -98.377502    5.977258  \n",
       "\n",
       "[76710 rows x 11 columns]"
      ]
     },
     "execution_count": 3,
     "metadata": {},
     "output_type": "execute_result"
    }
   ],
   "source": [
    "data_df_VNn = pd.read_csv('data/VN30new_final.csv', index_col=0)\n",
    "data_df_VNn"
   ]
  },
  {
   "cell_type": "code",
   "execution_count": 4,
   "metadata": {},
   "outputs": [
    {
     "name": "stdout",
     "output_type": "stream",
     "text": [
      "Last training day of the first training: 2020-10-05\n",
      "Validation starts from: 2020-10-06\n",
      "Trading starts from: 2021-01-04\n"
     ]
    }
   ],
   "source": [
    "START_TRADE_DATE = '2021-01-01'\n",
    "all_dates = data_df_VNn['date'].unique()\n",
    "start_trade_id = np.where(all_dates>=START_TRADE_DATE)[0][0]\n",
    "start_trade_id = start_trade_id - REBALANCE_WINDOW - 1\n",
    "trade_dates_VNn = list(all_dates[start_trade_id:])\n",
    "print(f'Last training day of the first training: {trade_dates_VNn[0]}')\n",
    "print(f'Validation starts from: {trade_dates_VNn[1]}')\n",
    "print(f'Trading starts from: {trade_dates_VNn[REBALANCE_WINDOW+1]}')"
   ]
  },
  {
   "cell_type": "markdown",
   "metadata": {},
   "source": [
    "### 4.1. A2C"
   ]
  },
  {
   "cell_type": "code",
   "execution_count": null,
   "metadata": {},
   "outputs": [],
   "source": [
    "train_validate(market='VNn', model_name='A2C', data_df=data_df_VNn, trade_dates=trade_dates_VNn, rebalance_window=REBALANCE_WINDOW)"
   ]
  },
  {
   "cell_type": "code",
   "execution_count": null,
   "metadata": {},
   "outputs": [],
   "source": [
    "run_trading(market='VNn', model_name='A2C', data_df=data_df_VNn, trade_dates=trade_dates_VNn, rebalance_window=REBALANCE_WINDOW)"
   ]
  },
  {
   "cell_type": "markdown",
   "metadata": {},
   "source": [
    "### 4.2 PPO"
   ]
  },
  {
   "cell_type": "code",
   "execution_count": null,
   "metadata": {},
   "outputs": [],
   "source": [
    "train_validate(market='VNn', model_name='PPO', data_df=data_df_VNn, trade_dates=trade_dates_VNn, rebalance_window=REBALANCE_WINDOW)"
   ]
  },
  {
   "cell_type": "code",
   "execution_count": null,
   "metadata": {},
   "outputs": [],
   "source": [
    "run_trading(market='VNn', model_name='PPO', data_df=data_df_VNn, trade_dates=trade_dates_VNn, rebalance_window=REBALANCE_WINDOW)"
   ]
  },
  {
   "cell_type": "markdown",
   "metadata": {},
   "source": [
    "### 4.3. DDPG"
   ]
  },
  {
   "cell_type": "code",
   "execution_count": null,
   "metadata": {},
   "outputs": [],
   "source": [
    "train_validate(market='VNn', model_name='DDPG', data_df=data_df_VNn, trade_dates=trade_dates_VNn, rebalance_window=REBALANCE_WINDOW)"
   ]
  },
  {
   "cell_type": "code",
   "execution_count": null,
   "metadata": {},
   "outputs": [],
   "source": [
    "run_trading(market='VNn', model_name='DDPG', data_df=data_df_VNn, trade_dates=trade_dates_VNn, rebalance_window=REBALANCE_WINDOW)"
   ]
  },
  {
   "cell_type": "markdown",
   "metadata": {},
   "source": [
    "### 4.4 TD3"
   ]
  },
  {
   "cell_type": "code",
   "execution_count": null,
   "metadata": {},
   "outputs": [],
   "source": [
    "train_validate(market='VNn', model_name='TD3', data_df=data_df_VNn, trade_dates=trade_dates_VNn, rebalance_window=REBALANCE_WINDOW)"
   ]
  },
  {
   "cell_type": "code",
   "execution_count": null,
   "metadata": {},
   "outputs": [],
   "source": [
    "run_trading(market='VNn', model_name='TD3', data_df=data_df_VNn, trade_dates=trade_dates_VNn, rebalance_window=REBALANCE_WINDOW)"
   ]
  }
 ],
 "metadata": {
  "kernelspec": {
   "display_name": "rlfin",
   "language": "python",
   "name": "python3"
  },
  "language_info": {
   "codemirror_mode": {
    "name": "ipython",
    "version": 3
   },
   "file_extension": ".py",
   "mimetype": "text/x-python",
   "name": "python",
   "nbconvert_exporter": "python",
   "pygments_lexer": "ipython3",
   "version": "3.13.2"
  }
 },
 "nbformat": 4,
 "nbformat_minor": 2
}
